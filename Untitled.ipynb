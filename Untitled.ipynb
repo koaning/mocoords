{
 "cells": [
  {
   "cell_type": "code",
   "execution_count": 1,
   "id": "03333ebe-0213-4a08-99e0-6f2f144e1c6e",
   "metadata": {},
   "outputs": [],
   "source": [
    "from mocoords import ParallelCoordinates"
   ]
  },
  {
   "cell_type": "code",
   "execution_count": 2,
   "id": "6934c656-99ef-4ebc-ae14-b94a8346684e",
   "metadata": {},
   "outputs": [
    {
     "data": {
      "application/vnd.jupyter.widget-view+json": {
       "model_id": "1ff750c709cc44cda4a51f074783bb4d",
       "version_major": 2,
       "version_minor": 1
      },
      "text/plain": [
       "ParallelCoordinates()"
      ]
     },
     "execution_count": 2,
     "metadata": {},
     "output_type": "execute_result"
    }
   ],
   "source": [
    "ParallelCoordinates()"
   ]
  },
  {
   "cell_type": "code",
   "execution_count": null,
   "id": "7570edc9-29b2-4edb-812a-83cfaec2de32",
   "metadata": {},
   "outputs": [],
   "source": []
  }
 ],
 "metadata": {
  "kernelspec": {
   "display_name": "Python 3 (ipykernel)",
   "language": "python",
   "name": "python3"
  },
  "language_info": {
   "codemirror_mode": {
    "name": "ipython",
    "version": 3
   },
   "file_extension": ".py",
   "mimetype": "text/x-python",
   "name": "python",
   "nbconvert_exporter": "python",
   "pygments_lexer": "ipython3",
   "version": "3.12.9"
  }
 },
 "nbformat": 4,
 "nbformat_minor": 5
}
